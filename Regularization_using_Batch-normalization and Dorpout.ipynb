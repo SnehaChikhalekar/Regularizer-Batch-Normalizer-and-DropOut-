{
 "cells": [
  {
   "cell_type": "markdown",
   "metadata": {},
   "source": [
    "### Problem Statement\n",
    "\n",
    "    Identify products at risk of backorder before the event occurs so that business has time to react."
   ]
  },
  {
   "cell_type": "markdown",
   "metadata": {},
   "source": [
    "### What is a Backorder?\n",
    "    Backorders are products that are temporarily out of stock, but a customer is permitted to place an order against future inventory. A backorder generally indicates that customer demand for a product or service exceeds a company’s capacity to supply it. Back orders are both good and bad. Strong demand can drive back orders, but so can suboptimal planning."
   ]
  },
  {
   "cell_type": "markdown",
   "metadata": {},
   "source": [
    "### Data\n",
    "\n",
    "Data file contains the historical data for the 8 weeks prior to the week we are trying to predict. The data was taken as weekly snapshots at the start of each week. Columns are defined as follows:\n",
    "\n",
    "    sku - Random ID for the product\n",
    "\n",
    "    national_inv - Current inventory level for the part\n",
    "\n",
    "    lead_time - Transit time for product (if available)\n",
    "\n",
    "    in_transit_qty - Amount of product in transit from source\n",
    "\n",
    "    forecast_3_month - Forecast sales for the next 3 months\n",
    "\n",
    "    forecast_6_month - Forecast sales for the next 6 months\n",
    "\n",
    "    forecast_9_month - Forecast sales for the next 9 months\n",
    "\n",
    "    sales_1_month - Sales quantity for the prior 1 month time period\n",
    "\n",
    "    sales_3_month - Sales quantity for the prior 3 month time period\n",
    "\n",
    "    sales_6_month - Sales quantity for the prior 6 month time period\n",
    "\n",
    "    sales_9_month - Sales quantity for the prior 9 month time period\n",
    "\n",
    "    min_bank - Minimum recommend amount to stock\n",
    "\n",
    "    potential_issue - Source issue for part identified\n",
    "\n",
    "    pieces_past_due - Parts overdue from source\n",
    "\n",
    "    perf_6_month_avg - Source performance for prior 6 month period\n",
    "\n",
    "    perf_12_month_avg - Source performance for prior 12 month period\n",
    "\n",
    "    local_bo_qty - Amount of stock orders overdue\n",
    "\n",
    "    deck_risk - Part risk flag\n",
    "\n",
    "    oe_constraint - Part risk flag\n",
    "\n",
    "    ppap_risk - Part risk flag\n",
    "\n",
    "    stop_auto_buy - Part risk flag\n",
    "\n",
    "    rev_stop - Part risk flag\n",
    "\n",
    "    went_on_backorder - Product actually went on backorder. This is the target value."
   ]
  },
  {
   "cell_type": "markdown",
   "metadata": {},
   "source": [
    "#### Identify Right Error Metrics\n",
    "\n",
    "    Based on the businees, identify right error metrics."
   ]
  },
  {
   "cell_type": "markdown",
   "metadata": {},
   "source": [
    "### Data Preprocessing"
   ]
  },
  {
   "cell_type": "code",
   "execution_count": 1,
   "metadata": {},
   "outputs": [
    {
     "name": "stderr",
     "output_type": "stream",
     "text": [
      "Using TensorFlow backend.\n",
      "C:\\Users\\sneha chikhalekar\\Anaconda3\\lib\\site-packages\\tensorflow\\python\\framework\\dtypes.py:526: FutureWarning: Passing (type, 1) or '1type' as a synonym of type is deprecated; in a future version of numpy, it will be understood as (type, (1,)) / '(1,)type'.\n",
      "  _np_qint8 = np.dtype([(\"qint8\", np.int8, 1)])\n",
      "C:\\Users\\sneha chikhalekar\\Anaconda3\\lib\\site-packages\\tensorflow\\python\\framework\\dtypes.py:527: FutureWarning: Passing (type, 1) or '1type' as a synonym of type is deprecated; in a future version of numpy, it will be understood as (type, (1,)) / '(1,)type'.\n",
      "  _np_quint8 = np.dtype([(\"quint8\", np.uint8, 1)])\n",
      "C:\\Users\\sneha chikhalekar\\Anaconda3\\lib\\site-packages\\tensorflow\\python\\framework\\dtypes.py:528: FutureWarning: Passing (type, 1) or '1type' as a synonym of type is deprecated; in a future version of numpy, it will be understood as (type, (1,)) / '(1,)type'.\n",
      "  _np_qint16 = np.dtype([(\"qint16\", np.int16, 1)])\n",
      "C:\\Users\\sneha chikhalekar\\Anaconda3\\lib\\site-packages\\tensorflow\\python\\framework\\dtypes.py:529: FutureWarning: Passing (type, 1) or '1type' as a synonym of type is deprecated; in a future version of numpy, it will be understood as (type, (1,)) / '(1,)type'.\n",
      "  _np_quint16 = np.dtype([(\"quint16\", np.uint16, 1)])\n",
      "C:\\Users\\sneha chikhalekar\\Anaconda3\\lib\\site-packages\\tensorflow\\python\\framework\\dtypes.py:530: FutureWarning: Passing (type, 1) or '1type' as a synonym of type is deprecated; in a future version of numpy, it will be understood as (type, (1,)) / '(1,)type'.\n",
      "  _np_qint32 = np.dtype([(\"qint32\", np.int32, 1)])\n",
      "C:\\Users\\sneha chikhalekar\\Anaconda3\\lib\\site-packages\\tensorflow\\python\\framework\\dtypes.py:535: FutureWarning: Passing (type, 1) or '1type' as a synonym of type is deprecated; in a future version of numpy, it will be understood as (type, (1,)) / '(1,)type'.\n",
      "  np_resource = np.dtype([(\"resource\", np.ubyte, 1)])\n"
     ]
    }
   ],
   "source": [
    "import pandas as pd\n",
    "import numpy as np\n",
    "\n",
    "from sklearn.model_selection import train_test_split\n",
    "from sklearn.metrics import confusion_matrix,roc_curve,auc\n",
    "\n",
    "from keras.regularizers import l2\n",
    "\n",
    "from keras.models import Sequential\n",
    "from keras.layers import Dense,Dropout,BatchNormalization\n",
    "\n",
    "from keras.utils import to_categorical\n",
    "from keras import optimizers\n",
    "from keras.callbacks import Callback\n",
    "from keras import backend as K\n",
    "\n",
    "import matplotlib.pyplot as plt\n",
    "%matplotlib inline\n",
    "\n",
    "\n",
    "import warnings\n",
    "warnings.filterwarnings(\"ignore\",category=DeprecationWarning)"
   ]
  },
  {
   "cell_type": "code",
   "execution_count": 5,
   "metadata": {},
   "outputs": [],
   "source": [
    "df=pd.read_csv(\"BackOrders.csv\")"
   ]
  },
  {
   "cell_type": "code",
   "execution_count": 6,
   "metadata": {},
   "outputs": [
    {
     "data": {
      "text/html": [
       "<div>\n",
       "<style scoped>\n",
       "    .dataframe tbody tr th:only-of-type {\n",
       "        vertical-align: middle;\n",
       "    }\n",
       "\n",
       "    .dataframe tbody tr th {\n",
       "        vertical-align: top;\n",
       "    }\n",
       "\n",
       "    .dataframe thead th {\n",
       "        text-align: right;\n",
       "    }\n",
       "</style>\n",
       "<table border=\"1\" class=\"dataframe\">\n",
       "  <thead>\n",
       "    <tr style=\"text-align: right;\">\n",
       "      <th></th>\n",
       "      <th>sku</th>\n",
       "      <th>national_inv</th>\n",
       "      <th>lead_time</th>\n",
       "      <th>in_transit_qty</th>\n",
       "      <th>forecast_3_month</th>\n",
       "      <th>forecast_6_month</th>\n",
       "      <th>forecast_9_month</th>\n",
       "      <th>sales_1_month</th>\n",
       "      <th>sales_3_month</th>\n",
       "      <th>sales_6_month</th>\n",
       "      <th>...</th>\n",
       "      <th>pieces_past_due</th>\n",
       "      <th>perf_6_month_avg</th>\n",
       "      <th>perf_12_month_avg</th>\n",
       "      <th>local_bo_qty</th>\n",
       "      <th>deck_risk</th>\n",
       "      <th>oe_constraint</th>\n",
       "      <th>ppap_risk</th>\n",
       "      <th>stop_auto_buy</th>\n",
       "      <th>rev_stop</th>\n",
       "      <th>went_on_backorder</th>\n",
       "    </tr>\n",
       "  </thead>\n",
       "  <tbody>\n",
       "    <tr>\n",
       "      <th>0</th>\n",
       "      <td>1888279</td>\n",
       "      <td>117</td>\n",
       "      <td>NaN</td>\n",
       "      <td>0</td>\n",
       "      <td>0</td>\n",
       "      <td>0</td>\n",
       "      <td>0</td>\n",
       "      <td>0</td>\n",
       "      <td>0</td>\n",
       "      <td>15</td>\n",
       "      <td>...</td>\n",
       "      <td>0</td>\n",
       "      <td>-99.00</td>\n",
       "      <td>-99.00</td>\n",
       "      <td>0</td>\n",
       "      <td>No</td>\n",
       "      <td>No</td>\n",
       "      <td>Yes</td>\n",
       "      <td>Yes</td>\n",
       "      <td>No</td>\n",
       "      <td>No</td>\n",
       "    </tr>\n",
       "    <tr>\n",
       "      <th>1</th>\n",
       "      <td>1870557</td>\n",
       "      <td>7</td>\n",
       "      <td>2.0</td>\n",
       "      <td>0</td>\n",
       "      <td>0</td>\n",
       "      <td>0</td>\n",
       "      <td>0</td>\n",
       "      <td>0</td>\n",
       "      <td>0</td>\n",
       "      <td>0</td>\n",
       "      <td>...</td>\n",
       "      <td>0</td>\n",
       "      <td>0.50</td>\n",
       "      <td>0.28</td>\n",
       "      <td>0</td>\n",
       "      <td>Yes</td>\n",
       "      <td>No</td>\n",
       "      <td>No</td>\n",
       "      <td>Yes</td>\n",
       "      <td>No</td>\n",
       "      <td>No</td>\n",
       "    </tr>\n",
       "    <tr>\n",
       "      <th>2</th>\n",
       "      <td>1475481</td>\n",
       "      <td>258</td>\n",
       "      <td>15.0</td>\n",
       "      <td>10</td>\n",
       "      <td>10</td>\n",
       "      <td>77</td>\n",
       "      <td>184</td>\n",
       "      <td>46</td>\n",
       "      <td>132</td>\n",
       "      <td>256</td>\n",
       "      <td>...</td>\n",
       "      <td>0</td>\n",
       "      <td>0.54</td>\n",
       "      <td>0.70</td>\n",
       "      <td>0</td>\n",
       "      <td>No</td>\n",
       "      <td>No</td>\n",
       "      <td>No</td>\n",
       "      <td>Yes</td>\n",
       "      <td>No</td>\n",
       "      <td>No</td>\n",
       "    </tr>\n",
       "    <tr>\n",
       "      <th>3</th>\n",
       "      <td>1758220</td>\n",
       "      <td>46</td>\n",
       "      <td>2.0</td>\n",
       "      <td>0</td>\n",
       "      <td>0</td>\n",
       "      <td>0</td>\n",
       "      <td>0</td>\n",
       "      <td>1</td>\n",
       "      <td>2</td>\n",
       "      <td>6</td>\n",
       "      <td>...</td>\n",
       "      <td>0</td>\n",
       "      <td>0.75</td>\n",
       "      <td>0.90</td>\n",
       "      <td>0</td>\n",
       "      <td>Yes</td>\n",
       "      <td>No</td>\n",
       "      <td>No</td>\n",
       "      <td>Yes</td>\n",
       "      <td>No</td>\n",
       "      <td>No</td>\n",
       "    </tr>\n",
       "    <tr>\n",
       "      <th>4</th>\n",
       "      <td>1360312</td>\n",
       "      <td>2</td>\n",
       "      <td>2.0</td>\n",
       "      <td>0</td>\n",
       "      <td>4</td>\n",
       "      <td>6</td>\n",
       "      <td>10</td>\n",
       "      <td>2</td>\n",
       "      <td>2</td>\n",
       "      <td>5</td>\n",
       "      <td>...</td>\n",
       "      <td>0</td>\n",
       "      <td>0.97</td>\n",
       "      <td>0.92</td>\n",
       "      <td>0</td>\n",
       "      <td>No</td>\n",
       "      <td>No</td>\n",
       "      <td>No</td>\n",
       "      <td>Yes</td>\n",
       "      <td>No</td>\n",
       "      <td>No</td>\n",
       "    </tr>\n",
       "  </tbody>\n",
       "</table>\n",
       "<p>5 rows × 23 columns</p>\n",
       "</div>"
      ],
      "text/plain": [
       "       sku  national_inv  lead_time  in_transit_qty  forecast_3_month  \\\n",
       "0  1888279           117        NaN               0                 0   \n",
       "1  1870557             7        2.0               0                 0   \n",
       "2  1475481           258       15.0              10                10   \n",
       "3  1758220            46        2.0               0                 0   \n",
       "4  1360312             2        2.0               0                 4   \n",
       "\n",
       "   forecast_6_month  forecast_9_month  sales_1_month  sales_3_month  \\\n",
       "0                 0                 0              0              0   \n",
       "1                 0                 0              0              0   \n",
       "2                77               184             46            132   \n",
       "3                 0                 0              1              2   \n",
       "4                 6                10              2              2   \n",
       "\n",
       "   sales_6_month        ...         pieces_past_due  perf_6_month_avg  \\\n",
       "0             15        ...                       0            -99.00   \n",
       "1              0        ...                       0              0.50   \n",
       "2            256        ...                       0              0.54   \n",
       "3              6        ...                       0              0.75   \n",
       "4              5        ...                       0              0.97   \n",
       "\n",
       "  perf_12_month_avg  local_bo_qty  deck_risk  oe_constraint  ppap_risk  \\\n",
       "0            -99.00             0         No             No        Yes   \n",
       "1              0.28             0        Yes             No         No   \n",
       "2              0.70             0         No             No         No   \n",
       "3              0.90             0        Yes             No         No   \n",
       "4              0.92             0         No             No         No   \n",
       "\n",
       "  stop_auto_buy rev_stop went_on_backorder  \n",
       "0           Yes       No                No  \n",
       "1           Yes       No                No  \n",
       "2           Yes       No                No  \n",
       "3           Yes       No                No  \n",
       "4           Yes       No                No  \n",
       "\n",
       "[5 rows x 23 columns]"
      ]
     },
     "execution_count": 6,
     "metadata": {},
     "output_type": "execute_result"
    }
   ],
   "source": [
    "df.head()"
   ]
  },
  {
   "cell_type": "code",
   "execution_count": 7,
   "metadata": {},
   "outputs": [],
   "source": [
    "df.drop('sku',axis=1,inplace=True)"
   ]
  },
  {
   "cell_type": "code",
   "execution_count": 8,
   "metadata": {},
   "outputs": [],
   "source": [
    "df=df.dropna()"
   ]
  },
  {
   "cell_type": "code",
   "execution_count": 13,
   "metadata": {},
   "outputs": [
    {
     "data": {
      "text/plain": [
       "national_inv               int64\n",
       "lead_time                float64\n",
       "in_transit_qty             int64\n",
       "forecast_3_month           int64\n",
       "forecast_6_month           int64\n",
       "forecast_9_month           int64\n",
       "sales_1_month              int64\n",
       "sales_3_month              int64\n",
       "sales_6_month              int64\n",
       "sales_9_month              int64\n",
       "min_bank                   int64\n",
       "pieces_past_due            int64\n",
       "perf_6_month_avg         float64\n",
       "perf_12_month_avg        float64\n",
       "local_bo_qty               int64\n",
       "potential_issue_Yes        uint8\n",
       "deck_risk_Yes              uint8\n",
       "oe_constraint_Yes          uint8\n",
       "ppap_risk_Yes              uint8\n",
       "stop_auto_buy_Yes          uint8\n",
       "rev_stop_Yes               uint8\n",
       "went_on_backorder_Yes      uint8\n",
       "dtype: object"
      ]
     },
     "execution_count": 13,
     "metadata": {},
     "output_type": "execute_result"
    }
   ],
   "source": [
    "df.dtypes"
   ]
  },
  {
   "cell_type": "code",
   "execution_count": 10,
   "metadata": {},
   "outputs": [],
   "source": [
    "cat_cols=['potential_issue','deck_risk','oe_constraint','ppap_risk',\n",
    "          'stop_auto_buy','rev_stop','went_on_backorder']\n",
    "df[cat_cols]=df[cat_cols].astype('category')"
   ]
  },
  {
   "cell_type": "code",
   "execution_count": 12,
   "metadata": {},
   "outputs": [],
   "source": [
    "df=pd.get_dummies(df,drop_first=True)"
   ]
  },
  {
   "cell_type": "code",
   "execution_count": 14,
   "metadata": {},
   "outputs": [],
   "source": [
    "X=df.drop('went_on_backorder_Yes',axis=1)\n",
    "y=df['went_on_backorder_Yes']"
   ]
  },
  {
   "cell_type": "code",
   "execution_count": 17,
   "metadata": {},
   "outputs": [],
   "source": [
    "X_train,X_test,y_train,y_test=train_test_split(X,y,test_size=0.25,random_state=1234)"
   ]
  },
  {
   "cell_type": "code",
   "execution_count": 18,
   "metadata": {},
   "outputs": [
    {
     "name": "stdout",
     "output_type": "stream",
     "text": [
      "(43639, 21)\n",
      "(14547, 21)\n"
     ]
    }
   ],
   "source": [
    "print(X_train.shape)\n",
    "print(X_test.shape)"
   ]
  },
  {
   "cell_type": "markdown",
   "metadata": {},
   "source": [
    "### Model Building"
   ]
  },
  {
   "cell_type": "markdown",
   "metadata": {},
   "source": [
    "#### Model with Relu as activation in hidden layer, Adam optimizer, Modified Xavier"
   ]
  },
  {
   "cell_type": "code",
   "execution_count": 19,
   "metadata": {},
   "outputs": [],
   "source": [
    "np.random.seed(123)"
   ]
  },
  {
   "cell_type": "code",
   "execution_count": 28,
   "metadata": {},
   "outputs": [],
   "source": [
    "def model_def(h_activation,o_activation,kernel_init):\n",
    "    \n",
    "    model=Sequential()\n",
    "    \n",
    "    model.add(Dense(25,input_dim=21,activation=h_activation,kernel_initializer=kernel_init))\n",
    "    model.add(Dense(15,activation=h_activation,kernel_initializer=kernel_init))\n",
    "    model.add(Dense(1,activation=o_activation,kernel_initializer=kernel_init))\n",
    "    \n",
    "    return model\n"
   ]
  },
  {
   "cell_type": "code",
   "execution_count": 29,
   "metadata": {},
   "outputs": [
    {
     "name": "stdout",
     "output_type": "stream",
     "text": [
      "WARNING:tensorflow:From C:\\Users\\sneha chikhalekar\\Anaconda3\\lib\\site-packages\\tensorflow\\python\\ops\\resource_variable_ops.py:435: colocate_with (from tensorflow.python.framework.ops) is deprecated and will be removed in a future version.\n",
      "Instructions for updating:\n",
      "Colocations handled automatically by placer.\n"
     ]
    }
   ],
   "source": [
    "relu_model=model_def(h_activation='relu', o_activation='sigmoid', kernel_init='glorot_normal')"
   ]
  },
  {
   "cell_type": "code",
   "execution_count": 30,
   "metadata": {},
   "outputs": [],
   "source": [
    "relu_model.compile(loss='binary_crossentropy', optimizer='adam', metrics=['accuracy'])"
   ]
  },
  {
   "cell_type": "code",
   "execution_count": 31,
   "metadata": {},
   "outputs": [
    {
     "name": "stdout",
     "output_type": "stream",
     "text": [
      "WARNING:tensorflow:From C:\\Users\\sneha chikhalekar\\Anaconda3\\lib\\site-packages\\tensorflow\\python\\ops\\math_ops.py:3066: to_int32 (from tensorflow.python.ops.math_ops) is deprecated and will be removed in a future version.\n",
      "Instructions for updating:\n",
      "Use tf.cast instead.\n",
      "Train on 34911 samples, validate on 8728 samples\n",
      "Epoch 1/10\n",
      "34911/34911 [==============================] - 2s 71us/step - loss: 0.6775 - accuracy: 0.8397 - val_loss: 0.3824 - val_accuracy: 0.8795\n",
      "Epoch 2/10\n",
      "34911/34911 [==============================] - 1s 42us/step - loss: 0.3939 - accuracy: 0.8833 - val_loss: 0.3950 - val_accuracy: 0.8858\n",
      "Epoch 3/10\n",
      "34911/34911 [==============================] - 1s 41us/step - loss: 0.4338 - accuracy: 0.8800 - val_loss: 0.3406 - val_accuracy: 0.8956\n",
      "Epoch 4/10\n",
      "34911/34911 [==============================] - 1s 40us/step - loss: 0.3433 - accuracy: 0.8954 - val_loss: 0.3352 - val_accuracy: 0.8969\n",
      "Epoch 5/10\n",
      "34911/34911 [==============================] - 1s 34us/step - loss: 0.3519 - accuracy: 0.8939 - val_loss: 0.3647 - val_accuracy: 0.8934\n",
      "Epoch 6/10\n",
      "34911/34911 [==============================] - 1s 34us/step - loss: 0.3918 - accuracy: 0.8887 - val_loss: 0.3296 - val_accuracy: 0.8952\n",
      "Epoch 7/10\n",
      "34911/34911 [==============================] - 1s 35us/step - loss: 0.3189 - accuracy: 0.8973 - val_loss: 0.3678 - val_accuracy: 0.8922\n",
      "Epoch 8/10\n",
      "34911/34911 [==============================] - 1s 35us/step - loss: 0.3079 - accuracy: 0.8983 - val_loss: 0.2928 - val_accuracy: 0.8992\n",
      "Epoch 9/10\n",
      "34911/34911 [==============================] - 1s 34us/step - loss: 0.2954 - accuracy: 0.9006 - val_loss: 0.2904 - val_accuracy: 0.9027\n",
      "Epoch 10/10\n",
      "34911/34911 [==============================] - 1s 35us/step - loss: 0.4192 - accuracy: 0.8856 - val_loss: 0.3146 - val_accuracy: 0.8983\n"
     ]
    }
   ],
   "source": [
    "relu_model_history = relu_model.fit(X_train, y_train, epochs=10,\n",
    "                                    batch_size= 64,\n",
    "                                    validation_split=0.2, shuffle=True)"
   ]
  },
  {
   "cell_type": "code",
   "execution_count": 32,
   "metadata": {},
   "outputs": [
    {
     "data": {
      "image/png": "[encoded data removed]",
      "text/plain": [
       "<Figure size 432x288 with 1 Axes>"
      ]
     },
     "metadata": {
      "needs_background": "light"
     },
     "output_type": "display_data"
    }
   ],
   "source": [
    "plt.plot(relu_model.history.history['loss'])\n",
    "plt.plot(relu_model.history.history['val_loss'])\n",
    "plt.title('Loss Function Plot')\n",
    "plt.ylabel('Loss')\n",
    "plt.xlabel('Epoch')\n",
    "plt.legend(['Train', 'Validation'])\n",
    "plt.show()"
   ]
  },
  {
   "cell_type": "code",
   "execution_count": 33,
   "metadata": {},
   "outputs": [],
   "source": [
    "train_relu_model_pred = relu_model.predict_classes(X_train)\n",
    "test_relu_model_pred = relu_model.predict_classes(X_test)"
   ]
  },
  {
   "cell_type": "code",
   "execution_count": 34,
   "metadata": {},
   "outputs": [
    {
     "name": "stdout",
     "output_type": "stream",
     "text": [
      "[[33117  2255]\n",
      " [ 2149  6118]]\n",
      "[[11102   743]\n",
      " [  669  2033]]\n"
     ]
    }
   ],
   "source": [
    "confusion_matrix_train = confusion_matrix(y_train, train_relu_model_pred)\n",
    "confusion_matrix_test = confusion_matrix(y_test, test_relu_model_pred)\n",
    "\n",
    "print(confusion_matrix_train)\n",
    "print(confusion_matrix_test)"
   ]
  },
  {
   "cell_type": "code",
   "execution_count": 35,
   "metadata": {},
   "outputs": [
    {
     "name": "stdout",
     "output_type": "stream",
     "text": [
      "Train TNR:  0.936249010516793\n",
      "Train TPR:  0.7400508044030483\n",
      "Train Accuracy:  0.8990810971837118\n",
      "-----------------------\n",
      "Test TNR:  0.9372731110173069\n",
      "Test TPR:  0.7524056254626202\n",
      "Test Accuracy:  0.9029353131229807\n"
     ]
    }
   ],
   "source": [
    "Accuracy_Train_M6 =(confusion_matrix_train[0,0]+confusion_matrix_train[1,1])/(confusion_matrix_train[0,0]+confusion_matrix_train[0,1]+confusion_matrix_train[1,0]+confusion_matrix_train[1,1])\n",
    "TNR_Train_M6 = confusion_matrix_train[0,0]/(confusion_matrix_train[0,0]+confusion_matrix_train[0,1])\n",
    "TPR_Train_M6 = confusion_matrix_train[1,1]/(confusion_matrix_train[1,0]+confusion_matrix_train[1,1])\n",
    "\n",
    "print(\"Train TNR: \",TNR_Train_M6)\n",
    "print(\"Train TPR: \",TPR_Train_M6)\n",
    "print(\"Train Accuracy: \",Accuracy_Train_M6)\n",
    "print(\"-----------------------\")\n",
    "\n",
    "Accuracy_Test_M6 = (confusion_matrix_test[0,0]+confusion_matrix_test[1,1])/(confusion_matrix_test[0,0]+confusion_matrix_test[0,1]+confusion_matrix_test[1,0]+confusion_matrix_test[1,1])\n",
    "TNR_Test_M6 = confusion_matrix_test[0,0]/(confusion_matrix_test[0,0] +confusion_matrix_test[0,1])\n",
    "TPR_Test_M6 = confusion_matrix_test[1,1]/(confusion_matrix_test[1,0] +confusion_matrix_test[1,1])\n",
    "\n",
    "print(\"Test TNR: \",TNR_Test_M6)\n",
    "print(\"Test TPR: \",TPR_Test_M6)\n",
    "print(\"Test Accuracy: \",Accuracy_Test_M6)"
   ]
  },
  {
   "cell_type": "markdown",
   "metadata": {},
   "source": [
    "#### Model with Dropout"
   ]
  },
  {
   "cell_type": "code",
   "execution_count": 36,
   "metadata": {},
   "outputs": [],
   "source": [
    "dropout_model=Sequential()"
   ]
  },
  {
   "cell_type": "code",
   "execution_count": 37,
   "metadata": {},
   "outputs": [],
   "source": [
    "dropout_model.add(Dense(25,input_dim=21,activation='relu',kernel_initializer=\"glorot_normal\"))\n",
    "dropout_model.add(Dropout(0.2))\n",
    "dropout_model.add(Dense(15,activation='relu',kernel_initializer=\"glorot_normal\"))\n",
    "dropout_model.add(Dropout(0.2))\n",
    "dropout_model.add(Dense(1,activation='sigmoid',kernel_initializer=\"glorot_normal\"))\n"
   ]
  },
  {
   "cell_type": "code",
   "execution_count": 38,
   "metadata": {},
   "outputs": [
    {
     "name": "stdout",
     "output_type": "stream",
     "text": [
      "Model: \"sequential_5\"\n",
      "_________________________________________________________________\n",
      "Layer (type)                 Output Shape              Param #   \n",
      "=================================================================\n",
      "dense_4 (Dense)              (None, 25)                550       \n",
      "_________________________________________________________________\n",
      "dropout_1 (Dropout)          (None, 25)                0         \n",
      "_________________________________________________________________\n",
      "dense_5 (Dense)              (None, 15)                390       \n",
      "_________________________________________________________________\n",
      "dropout_2 (Dropout)          (None, 15)                0         \n",
      "_________________________________________________________________\n",
      "dense_6 (Dense)              (None, 1)                 16        \n",
      "=================================================================\n",
      "Total params: 956\n",
      "Trainable params: 956\n",
      "Non-trainable params: 0\n",
      "_________________________________________________________________\n"
     ]
    }
   ],
   "source": [
    "dropout_model.summary()"
   ]
  },
  {
   "cell_type": "code",
   "execution_count": 39,
   "metadata": {},
   "outputs": [],
   "source": [
    "dropout_model.compile(loss='binary_crossentropy', optimizer='adam', metrics=['accuracy'])"
   ]
  },
  {
   "cell_type": "code",
   "execution_count": 40,
   "metadata": {},
   "outputs": [
    {
     "name": "stdout",
     "output_type": "stream",
     "text": [
      "Train on 34911 samples, validate on 8728 samples\n",
      "Epoch 1/10\n",
      "34911/34911 [==============================] - 3s 77us/step - loss: 1.0306 - accuracy: 0.8292 - val_loss: 0.6907 - val_accuracy: 0.8668\n",
      "Epoch 2/10\n",
      "34911/34911 [==============================] - 2s 50us/step - loss: 0.6326 - accuracy: 0.8602 - val_loss: 0.3767 - val_accuracy: 0.8944\n",
      "Epoch 3/10\n",
      "34911/34911 [==============================] - 2s 50us/step - loss: 0.4958 - accuracy: 0.8635 - val_loss: 0.3403 - val_accuracy: 0.8670\n",
      "Epoch 4/10\n",
      "34911/34911 [==============================] - 2s 43us/step - loss: 0.3896 - accuracy: 0.8561 - val_loss: 0.3157 - val_accuracy: 0.8718\n",
      "Epoch 5/10\n",
      "34911/34911 [==============================] - 1s 43us/step - loss: 0.3559 - accuracy: 0.8587 - val_loss: 0.3042 - val_accuracy: 0.8720\n",
      "Epoch 6/10\n",
      "34911/34911 [==============================] - 2s 43us/step - loss: 0.3328 - accuracy: 0.8705 - val_loss: 0.2916 - val_accuracy: 0.8871\n",
      "Epoch 7/10\n",
      "34911/34911 [==============================] - 2s 44us/step - loss: 0.3151 - accuracy: 0.8738 - val_loss: 0.2792 - val_accuracy: 0.8977\n",
      "Epoch 8/10\n",
      "34911/34911 [==============================] - 2s 43us/step - loss: 0.3121 - accuracy: 0.8745 - val_loss: 0.2816 - val_accuracy: 0.8866\n",
      "Epoch 9/10\n",
      "34911/34911 [==============================] - 2s 45us/step - loss: 0.3046 - accuracy: 0.8806 - val_loss: 0.2736 - val_accuracy: 0.8933\n",
      "Epoch 10/10\n",
      "34911/34911 [==============================] - 2s 47us/step - loss: 0.3002 - accuracy: 0.8814 - val_loss: 0.2732 - val_accuracy: 0.8897\n"
     ]
    }
   ],
   "source": [
    "dropout_model_history = dropout_model.fit(X_train, y_train, epochs=10,\n",
    "                                          batch_size=64, \n",
    "                                          validation_split=0.2, shuffle=True)"
   ]
  },
  {
   "cell_type": "code",
   "execution_count": 48,
   "metadata": {},
   "outputs": [
    {
     "data": {
      "image/png": "[encoded data removed]",
      "text/plain": [
       "<Figure size 432x288 with 1 Axes>"
      ]
     },
     "metadata": {
      "needs_background": "light"
     },
     "output_type": "display_data"
    }
   ],
   "source": [
    "plt.plot(dropout_model_history.history['accuracy'])\n",
    "plt.plot(dropout_model_history.history['val_accuracy'])\n",
    "plt.title('Accuracy Plot')\n",
    "plt.ylabel('Accuracy')\n",
    "plt.xlabel('Epoch')\n",
    "plt.legend(['Train', 'Validation'])\n",
    "plt.show()"
   ]
  },
  {
   "cell_type": "code",
   "execution_count": 49,
   "metadata": {},
   "outputs": [
    {
     "data": {
      "image/png": "[encoded data removed]",
      "text/plain": [
       "<Figure size 432x288 with 1 Axes>"
      ]
     },
     "metadata": {
      "needs_background": "light"
     },
     "output_type": "display_data"
    }
   ],
   "source": [
    "plt.plot(dropout_model_history.history['loss'])\n",
    "plt.plot(dropout_model_history.history['val_loss'])\n",
    "plt.title('Loss Function Plot')\n",
    "plt.ylabel('Loss')\n",
    "plt.xlabel('Epoch')\n",
    "plt.legend(['Train', 'Validation'])\n",
    "plt.show()"
   ]
  },
  {
   "cell_type": "code",
   "execution_count": 50,
   "metadata": {},
   "outputs": [],
   "source": [
    "train_dropout_model_pred = dropout_model.predict_classes(X_train)\n",
    "test_dropout_model_pred = dropout_model.predict_classes(X_test)"
   ]
  },
  {
   "cell_type": "code",
   "execution_count": 51,
   "metadata": {},
   "outputs": [
    {
     "name": "stdout",
     "output_type": "stream",
     "text": [
      "[[32496  2876]\n",
      " [ 1965  6302]]\n",
      "[[10929   916]\n",
      " [  615  2087]]\n"
     ]
    }
   ],
   "source": [
    "confusion_matrix_train = confusion_matrix(y_train, train_dropout_model_pred)\n",
    "confusion_matrix_test = confusion_matrix(y_test, test_dropout_model_pred)\n",
    "\n",
    "print(confusion_matrix_train)\n",
    "print(confusion_matrix_test)"
   ]
  },
  {
   "cell_type": "code",
   "execution_count": 52,
   "metadata": {},
   "outputs": [
    {
     "name": "stdout",
     "output_type": "stream",
     "text": [
      "Train TNR:  0.9186927513287346\n",
      "Train TPR:  0.762307971452764\n",
      "Train Accuracy:  0.8890671188615688\n",
      "-----------------------\n",
      "Test TNR:  0.9226677923174336\n",
      "Test TPR:  0.7723908216136195\n",
      "Test Accuracy:  0.8947549322884444\n"
     ]
    }
   ],
   "source": [
    "Accuracy_Train_M6 =(confusion_matrix_train[0,0]+confusion_matrix_train[1,1])/(confusion_matrix_train[0,0]+confusion_matrix_train[0,1]+confusion_matrix_train[1,0]+confusion_matrix_train[1,1])\n",
    "TNR_Train_M6 = confusion_matrix_train[0,0]/(confusion_matrix_train[0,0]+confusion_matrix_train[0,1])\n",
    "TPR_Train_M6 = confusion_matrix_train[1,1]/(confusion_matrix_train[1,0]+confusion_matrix_train[1,1])\n",
    "\n",
    "print(\"Train TNR: \",TNR_Train_M6)\n",
    "print(\"Train TPR: \",TPR_Train_M6)\n",
    "print(\"Train Accuracy: \",Accuracy_Train_M6)\n",
    "print(\"-----------------------\")\n",
    "\n",
    "Accuracy_Test_M6 = (confusion_matrix_test[0,0]+confusion_matrix_test[1,1])/(confusion_matrix_test[0,0]+confusion_matrix_test[0,1]+confusion_matrix_test[1,0]+confusion_matrix_test[1,1])\n",
    "TNR_Test_M6 = confusion_matrix_test[0,0]/(confusion_matrix_test[0,0] +confusion_matrix_test[0,1])\n",
    "TPR_Test_M6 = confusion_matrix_test[1,1]/(confusion_matrix_test[1,0] +confusion_matrix_test[1,1])\n",
    "\n",
    "print(\"Test TNR: \",TNR_Test_M6)\n",
    "print(\"Test TPR: \",TPR_Test_M6)\n",
    "print(\"Test Accuracy: \",Accuracy_Test_M6)"
   ]
  },
  {
   "cell_type": "markdown",
   "metadata": {},
   "source": [
    "#### Model with Batch Normalization"
   ]
  },
  {
   "cell_type": "code",
   "execution_count": 53,
   "metadata": {},
   "outputs": [],
   "source": [
    "### We can do normalization before or after activation made"
   ]
  },
  {
   "cell_type": "code",
   "execution_count": 54,
   "metadata": {},
   "outputs": [],
   "source": [
    "np.random.seed(123)\n",
    "from keras.layers import Activation"
   ]
  },
  {
   "cell_type": "code",
   "execution_count": 56,
   "metadata": {},
   "outputs": [],
   "source": [
    "bn_model=Sequential()\n",
    "\n",
    "bn_model.add(Dense(25,input_dim=21,activation='relu', kernel_initializer=\"glorot_normal\"))\n",
    "bn_model.add(BatchNormalization())\n",
    "\n",
    "bn_model.add(Dense(15,kernel_initializer=\"glorot_normal\"))\n",
    "bn_model.add(BatchNormalization())\n",
    "bn_model.add(Activation('relu'))\n",
    "\n",
    "bn_model.add(Dense(1,activation='sigmoid',kernel_initializer=\"glorot_normal\"))\n"
   ]
  },
  {
   "cell_type": "code",
   "execution_count": 57,
   "metadata": {},
   "outputs": [
    {
     "name": "stdout",
     "output_type": "stream",
     "text": [
      "Model: \"sequential_7\"\n",
      "_________________________________________________________________\n",
      "Layer (type)                 Output Shape              Param #   \n",
      "=================================================================\n",
      "dense_8 (Dense)              (None, 25)                550       \n",
      "_________________________________________________________________\n",
      "batch_normalization_1 (Batch (None, 25)                100       \n",
      "_________________________________________________________________\n",
      "dense_9 (Dense)              (None, 15)                390       \n",
      "_________________________________________________________________\n",
      "batch_normalization_2 (Batch (None, 15)                60        \n",
      "_________________________________________________________________\n",
      "activation_1 (Activation)    (None, 15)                0         \n",
      "_________________________________________________________________\n",
      "dense_10 (Dense)             (None, 1)                 16        \n",
      "=================================================================\n",
      "Total params: 1,116\n",
      "Trainable params: 1,036\n",
      "Non-trainable params: 80\n",
      "_________________________________________________________________\n"
     ]
    }
   ],
   "source": [
    "bn_model.summary()"
   ]
  },
  {
   "cell_type": "code",
   "execution_count": 58,
   "metadata": {},
   "outputs": [],
   "source": [
    "bn_model.compile(loss='binary_crossentropy', optimizer='adam', metrics=['accuracy'])"
   ]
  },
  {
   "cell_type": "code",
   "execution_count": 59,
   "metadata": {},
   "outputs": [
    {
     "name": "stdout",
     "output_type": "stream",
     "text": [
      "Train on 34911 samples, validate on 8728 samples\n",
      "Epoch 1/10\n",
      "34911/34911 [==============================] - 4s 102us/step - loss: 0.3951 - accuracy: 0.8274 - val_loss: 0.4152 - val_accuracy: 0.8135\n",
      "Epoch 2/10\n",
      "34911/34911 [==============================] - 2s 59us/step - loss: 0.3064 - accuracy: 0.8639 - val_loss: 0.3888 - val_accuracy: 0.8175\n",
      "Epoch 3/10\n",
      "34911/34911 [==============================] - 2s 65us/step - loss: 0.2959 - accuracy: 0.8719 - val_loss: 0.3901 - val_accuracy: 0.8154\n",
      "Epoch 4/10\n",
      "34911/34911 [==============================] - 2s 56us/step - loss: 0.2863 - accuracy: 0.8768 - val_loss: 0.3788 - val_accuracy: 0.8201\n",
      "Epoch 5/10\n",
      "34911/34911 [==============================] - 2s 57us/step - loss: 0.2830 - accuracy: 0.8790 - val_loss: 0.3803 - val_accuracy: 0.8181\n",
      "Epoch 6/10\n",
      "34911/34911 [==============================] - 2s 64us/step - loss: 0.2809 - accuracy: 0.8810 - val_loss: 0.3682 - val_accuracy: 0.8226\n",
      "Epoch 7/10\n",
      "34911/34911 [==============================] - 2s 57us/step - loss: 0.2757 - accuracy: 0.8833 - val_loss: 0.3720 - val_accuracy: 0.8197\n",
      "Epoch 8/10\n",
      "34911/34911 [==============================] - 2s 57us/step - loss: 0.2748 - accuracy: 0.8848 - val_loss: 0.3679 - val_accuracy: 0.8245\n",
      "Epoch 9/10\n",
      "34911/34911 [==============================] - 2s 57us/step - loss: 0.2727 - accuracy: 0.8862 - val_loss: 0.3561 - val_accuracy: 0.8280\n",
      "Epoch 10/10\n",
      "34911/34911 [==============================] - 2s 62us/step - loss: 0.2688 - accuracy: 0.8875 - val_loss: 0.3694 - val_accuracy: 0.8186\n"
     ]
    }
   ],
   "source": [
    "bn_model_history = bn_model.fit(X_train, y_train, epochs=10,\n",
    "                                batch_size=64, validation_split=0.2)"
   ]
  },
  {
   "cell_type": "code",
   "execution_count": 63,
   "metadata": {},
   "outputs": [
    {
     "data": {
      "image/png": "[encoded data removed]",
      "text/plain": [
       "<Figure size 432x288 with 1 Axes>"
      ]
     },
     "metadata": {
      "needs_background": "light"
     },
     "output_type": "display_data"
    }
   ],
   "source": [
    "plt.plot(bn_model.history.history['accuracy'])\n",
    "plt.plot(bn_model.history.history['val_accuracy'])\n",
    "plt.title('Accuracy Plot')\n",
    "plt.ylabel('Accuracy')\n",
    "plt.xlabel('Epoch')\n",
    "plt.legend(['Train', 'Validation'])\n",
    "plt.show()"
   ]
  },
  {
   "cell_type": "code",
   "execution_count": 64,
   "metadata": {},
   "outputs": [
    {
     "data": {
      "image/png": "[encoded data removed]",
      "text/plain": [
       "<Figure size 432x288 with 1 Axes>"
      ]
     },
     "metadata": {
      "needs_background": "light"
     },
     "output_type": "display_data"
    }
   ],
   "source": [
    "plt.plot(bn_model.history.history['loss'])\n",
    "plt.plot(bn_model.history.history['val_loss'])\n",
    "plt.title('Loss Function Plot')\n",
    "plt.ylabel('Loss')\n",
    "plt.xlabel('Epoch')\n",
    "plt.legend(['Train', 'Validation'])\n",
    "plt.show()"
   ]
  },
  {
   "cell_type": "code",
   "execution_count": 65,
   "metadata": {},
   "outputs": [],
   "source": [
    "train_bn_model_pred = bn_model.predict_classes(X_train)\n",
    "test_bn_model_pred = bn_model.predict_classes(X_test)"
   ]
  },
  {
   "cell_type": "code",
   "execution_count": 66,
   "metadata": {},
   "outputs": [
    {
     "name": "stdout",
     "output_type": "stream",
     "text": [
      "[[35267   105]\n",
      " [ 7827   440]]\n",
      "[[11817    28]\n",
      " [ 2574   128]]\n"
     ]
    }
   ],
   "source": [
    "confusion_matrix_train = confusion_matrix(y_train, train_bn_model_pred)\n",
    "confusion_matrix_test = confusion_matrix(y_test, test_bn_model_pred)\n",
    "\n",
    "print(confusion_matrix_train)\n",
    "print(confusion_matrix_test)"
   ]
  },
  {
   "cell_type": "code",
   "execution_count": 67,
   "metadata": {},
   "outputs": [
    {
     "name": "stdout",
     "output_type": "stream",
     "text": [
      "Train TNR:  0.9970315503788307\n",
      "Train TPR:  0.05322366033627676\n",
      "Train Accuracy:  0.8182359815761131\n",
      "-----------------------\n",
      "Test TNR:  0.9976361333896159\n",
      "Test TPR:  0.047372316802368614\n",
      "Test Accuracy:  0.8211315047776174\n"
     ]
    }
   ],
   "source": [
    "Accuracy_Train_M6 =(confusion_matrix_train[0,0]+confusion_matrix_train[1,1])/(confusion_matrix_train[0,0]+confusion_matrix_train[0,1]+confusion_matrix_train[1,0]+confusion_matrix_train[1,1])\n",
    "TNR_Train_M6 = confusion_matrix_train[0,0]/(confusion_matrix_train[0,0]+confusion_matrix_train[0,1])\n",
    "TPR_Train_M6 = confusion_matrix_train[1,1]/(confusion_matrix_train[1,0]+confusion_matrix_train[1,1])\n",
    "\n",
    "print(\"Train TNR: \",TNR_Train_M6)\n",
    "print(\"Train TPR: \",TPR_Train_M6)\n",
    "print(\"Train Accuracy: \",Accuracy_Train_M6)\n",
    "print(\"-----------------------\")\n",
    "\n",
    "Accuracy_Test_M6 = (confusion_matrix_test[0,0]+confusion_matrix_test[1,1])/(confusion_matrix_test[0,0]+confusion_matrix_test[0,1]+confusion_matrix_test[1,0]+confusion_matrix_test[1,1])\n",
    "TNR_Test_M6 = confusion_matrix_test[0,0]/(confusion_matrix_test[0,0] +confusion_matrix_test[0,1])\n",
    "TPR_Test_M6 = confusion_matrix_test[1,1]/(confusion_matrix_test[1,0] +confusion_matrix_test[1,1])\n",
    "\n",
    "print(\"Test TNR: \",TNR_Test_M6)\n",
    "print(\"Test TPR: \",TPR_Test_M6)\n",
    "print(\"Test Accuracy: \",Accuracy_Test_M6)"
   ]
  },
  {
   "cell_type": "markdown",
   "metadata": {},
   "source": [
    "#### Model with Weight decay"
   ]
  },
  {
   "cell_type": "code",
   "execution_count": 75,
   "metadata": {},
   "outputs": [],
   "source": [
    "weight_decay_list = [1e-1, 1e-2, 1e-3, 1e-4, 1e-5, 1e-6]"
   ]
  },
  {
   "cell_type": "code",
   "execution_count": 78,
   "metadata": {},
   "outputs": [],
   "source": [
    "def l2_model_func(l2_value):\n",
    "    \n",
    "    l2_model=Sequential()\n",
    "    \n",
    "    l2_model.add(Dense(25,input_dim=21,activation='relu',kernel_regularizer=l2(l2_value),kernel_initializer=\"glorot_normal\"))\n",
    "    l2_model.add(Dropout(0.5))\n",
    "    l2_model.add(Dense(15, activation='relu',kernel_regularizer=l2(l2_value), kernel_initializer=\"glorot_normal\"))\n",
    "    l2_model.add(Dropout(0.5))\n",
    "    l2_model.add(Dense(1, activation='sigmoid',kernel_regularizer=l2(l2_value),kernel_initializer=\"glorot_normal\"))\n",
    "\n",
    "    l2_model.compile(loss='binary_crossentropy', optimizer='adam', metrics=['accuracy'])\n",
    "    \n",
    "    return l2_model\n"
   ]
  },
  {
   "cell_type": "code",
   "execution_count": 79,
   "metadata": {},
   "outputs": [
    {
     "name": "stdout",
     "output_type": "stream",
     "text": [
      "Train on 34911 samples, validate on 8728 samples\n",
      "Epoch 1/1\n",
      "50/50 [==============================] - 7s 134ms/step - loss: 5.4806 - accuracy: 0.7704 - val_loss: 0.0770 - val_accuracy: 41.6189\n",
      "Train on 34911 samples, validate on 8728 samples\n",
      "Epoch 1/1\n",
      "50/50 [==============================] - 6s 129ms/step - loss: 3.7827 - accuracy: 0.5828 - val_loss: 0.0294 - val_accuracy: 40.5706\n",
      "Train on 34911 samples, validate on 8728 samples\n",
      "Epoch 1/1\n",
      "50/50 [==============================] - 7s 133ms/step - loss: 2.1753 - accuracy: 0.7311 - val_loss: 0.0293 - val_accuracy: 40.5362\n",
      "Train on 34911 samples, validate on 8728 samples\n",
      "Epoch 1/1\n",
      "50/50 [==============================] - 6s 128ms/step - loss: 3.4950 - accuracy: 0.5361 - val_loss: 0.0333 - val_accuracy: 40.5591\n",
      "Train on 34911 samples, validate on 8728 samples\n",
      "Epoch 1/1\n",
      "50/50 [==============================] - 7s 130ms/step - loss: 2.2908 - accuracy: 0.6985 - val_loss: 0.0209 - val_accuracy: 40.9888\n",
      "Train on 34911 samples, validate on 8728 samples\n",
      "Epoch 1/1\n",
      "50/50 [==============================] - 6s 128ms/step - loss: 2.7919 - accuracy: 0.7195 - val_loss: 0.0398 - val_accuracy: 40.5591\n"
     ]
    }
   ],
   "source": [
    "hist_loss=[]\n",
    "\n",
    "for weight_decay in weight_decay_list:\n",
    "    \n",
    "    l2_model = l2_model_func(weight_decay)\n",
    "    \n",
    "    #Fit the model\n",
    "    l2_model_history = l2_model.fit(X_train, y_train, epochs=1,\n",
    "                                    validation_split=0.2, steps_per_epoch=50,\n",
    "                                    validation_steps=50)\n",
    "    \n",
    "    hist_loss.append(l2_model_history.history['loss'])"
   ]
  },
  {
   "cell_type": "code",
   "execution_count": 88,
   "metadata": {},
   "outputs": [],
   "source": [
    "# Get the weight decay and loss df\n",
    "\n",
    "loss_weight_decay=pd.DataFrame([weight_decay_list,hist_loss]).T\n",
    "\n",
    "loss_weight_decay.columns=['weight_decay','loss']\n",
    "\n",
    "# Sort values and reset the index\n",
    "\n",
    "loss_weight_decay=loss_weight_decay.sort_values('loss').reset_index().drop('index',axis=1)\n"
   ]
  },
  {
   "cell_type": "code",
   "execution_count": 89,
   "metadata": {},
   "outputs": [
    {
     "data": {
      "text/html": [
       "<div>\n",
       "<style scoped>\n",
       "    .dataframe tbody tr th:only-of-type {\n",
       "        vertical-align: middle;\n",
       "    }\n",
       "\n",
       "    .dataframe tbody tr th {\n",
       "        vertical-align: top;\n",
       "    }\n",
       "\n",
       "    .dataframe thead th {\n",
       "        text-align: right;\n",
       "    }\n",
       "</style>\n",
       "<table border=\"1\" class=\"dataframe\">\n",
       "  <thead>\n",
       "    <tr style=\"text-align: right;\">\n",
       "      <th></th>\n",
       "      <th>weight_decay</th>\n",
       "      <th>loss</th>\n",
       "    </tr>\n",
       "  </thead>\n",
       "  <tbody>\n",
       "    <tr>\n",
       "      <th>0</th>\n",
       "      <td>0.001</td>\n",
       "      <td>[2.1753185248374938]</td>\n",
       "    </tr>\n",
       "    <tr>\n",
       "      <th>1</th>\n",
       "      <td>1e-05</td>\n",
       "      <td>[2.290828251838684]</td>\n",
       "    </tr>\n",
       "    <tr>\n",
       "      <th>2</th>\n",
       "      <td>1e-06</td>\n",
       "      <td>[2.7918812322616575]</td>\n",
       "    </tr>\n",
       "    <tr>\n",
       "      <th>3</th>\n",
       "      <td>0.0001</td>\n",
       "      <td>[3.4950021171569823]</td>\n",
       "    </tr>\n",
       "    <tr>\n",
       "      <th>4</th>\n",
       "      <td>0.01</td>\n",
       "      <td>[3.782650270462036]</td>\n",
       "    </tr>\n",
       "    <tr>\n",
       "      <th>5</th>\n",
       "      <td>0.1</td>\n",
       "      <td>[5.48063362121582]</td>\n",
       "    </tr>\n",
       "  </tbody>\n",
       "</table>\n",
       "</div>"
      ],
      "text/plain": [
       "  weight_decay                  loss\n",
       "0        0.001  [2.1753185248374938]\n",
       "1        1e-05   [2.290828251838684]\n",
       "2        1e-06  [2.7918812322616575]\n",
       "3       0.0001  [3.4950021171569823]\n",
       "4         0.01   [3.782650270462036]\n",
       "5          0.1    [5.48063362121582]"
      ]
     },
     "execution_count": 89,
     "metadata": {},
     "output_type": "execute_result"
    }
   ],
   "source": [
    "loss_weight_decay"
   ]
  },
  {
   "cell_type": "code",
   "execution_count": 90,
   "metadata": {},
   "outputs": [],
   "source": [
    "## Build model on best one"
   ]
  },
  {
   "cell_type": "code",
   "execution_count": 91,
   "metadata": {},
   "outputs": [],
   "source": [
    "bst_l2_model = Sequential()\n",
    "\n",
    "bst_l2_model.add(Dense(25, input_dim=21, activation='relu', kernel_regularizer=l2(0.001),kernel_initializer=\"glorot_normal\"))\n",
    "bst_l2_model.add(Dropout(0.5))\n",
    "bst_l2_model.add(Dense(15, activation='relu',kernel_regularizer=l2(0.001), kernel_initializer=\"glorot_normal\"))\n",
    "bst_l2_model.add(Dropout(0.5))\n",
    "bst_l2_model.add(Dense(1, activation='sigmoid',kernel_regularizer=l2(0.001), kernel_initializer=\"glorot_normal\"))\n",
    "\n",
    "# Compile model\n",
    "bst_l2_model.compile(loss='binary_crossentropy', optimizer='adam', metrics=['accuracy'])"
   ]
  },
  {
   "cell_type": "code",
   "execution_count": 92,
   "metadata": {},
   "outputs": [
    {
     "name": "stdout",
     "output_type": "stream",
     "text": [
      "Train on 34911 samples, validate on 8728 samples\n",
      "Epoch 1/10\n",
      "34911/34911 [==============================] - 3s 79us/step - loss: 1.7161 - accuracy: 0.7767 - val_loss: 0.5693 - val_accuracy: 0.8643\n",
      "Epoch 2/10\n",
      "34911/34911 [==============================] - 2s 57us/step - loss: 0.8467 - accuracy: 0.8217 - val_loss: 0.4185 - val_accuracy: 0.8167\n",
      "Epoch 3/10\n",
      "34911/34911 [==============================] - 2s 59us/step - loss: 0.5558 - accuracy: 0.8162 - val_loss: 0.3813 - val_accuracy: 0.8128\n",
      "Epoch 4/10\n",
      "34911/34911 [==============================] - 2s 62us/step - loss: 0.4656 - accuracy: 0.8170 - val_loss: 0.3713 - val_accuracy: 0.8122\n",
      "Epoch 5/10\n",
      "34911/34911 [==============================] - 2s 55us/step - loss: 0.4412 - accuracy: 0.8122 - val_loss: 0.3616 - val_accuracy: 0.8115\n",
      "Epoch 6/10\n",
      "34911/34911 [==============================] - 2s 53us/step - loss: 0.4155 - accuracy: 0.8124 - val_loss: 0.3540 - val_accuracy: 0.8112\n",
      "Epoch 7/10\n",
      "34911/34911 [==============================] - 2s 52us/step - loss: 0.4027 - accuracy: 0.8123 - val_loss: 0.3463 - val_accuracy: 0.8112\n",
      "Epoch 8/10\n",
      "34911/34911 [==============================] - 2s 52us/step - loss: 0.3869 - accuracy: 0.8137 - val_loss: 0.3381 - val_accuracy: 0.8113\n",
      "Epoch 9/10\n",
      "34911/34911 [==============================] - 2s 52us/step - loss: 0.3843 - accuracy: 0.8170 - val_loss: 0.3336 - val_accuracy: 0.8207\n",
      "Epoch 10/10\n",
      "34911/34911 [==============================] - 2s 53us/step - loss: 0.3736 - accuracy: 0.8201 - val_loss: 0.3264 - val_accuracy: 0.8135\n"
     ]
    }
   ],
   "source": [
    "bst_l2_model_history = bst_l2_model.fit(X_train, y_train, epochs=10,\n",
    "                                        batch_size=64, \n",
    "                                        validation_split=0.2, shuffle=True)"
   ]
  },
  {
   "cell_type": "code",
   "execution_count": 93,
   "metadata": {},
   "outputs": [
    {
     "data": {
      "image/png": "[encoded data removed]",
      "text/plain": [
       "<Figure size 432x288 with 1 Axes>"
      ]
     },
     "metadata": {
      "needs_background": "light"
     },
     "output_type": "display_data"
    }
   ],
   "source": [
    "plt.plot(bst_l2_model.history.history['loss'])\n",
    "plt.plot(bst_l2_model.history.history['val_loss'])\n",
    "\n",
    "plt.title('Loss Plot')\n",
    "plt.ylabel('Loss')\n",
    "plt.xlabel('Epoch')\n",
    "plt.legend(['Train', 'Validation'])\n",
    "plt.show()"
   ]
  },
  {
   "cell_type": "code",
   "execution_count": 94,
   "metadata": {},
   "outputs": [],
   "source": [
    "train_bst_l2_model_pred = bst_l2_model.predict_classes(X_train)\n",
    "test_bst_l2_model_pred = bst_l2_model.predict_classes(X_test)"
   ]
  },
  {
   "cell_type": "code",
   "execution_count": 95,
   "metadata": {},
   "outputs": [
    {
     "name": "stdout",
     "output_type": "stream",
     "text": [
      "[[35348    24]\n",
      " [ 8123   144]]\n",
      "[[11838     7]\n",
      " [ 2654    48]]\n"
     ]
    }
   ],
   "source": [
    "confusion_matrix_train = confusion_matrix(y_train, train_bst_l2_model_pred)\n",
    "confusion_matrix_test = confusion_matrix(y_test, test_bst_l2_model_pred)\n",
    "\n",
    "print(confusion_matrix_train)\n",
    "print(confusion_matrix_test)"
   ]
  },
  {
   "cell_type": "code",
   "execution_count": 96,
   "metadata": {},
   "outputs": [
    {
     "name": "stdout",
     "output_type": "stream",
     "text": [
      "Train TNR:  0.9993214972294471\n",
      "Train TPR:  0.017418652473690576\n",
      "Train Accuracy:  0.8133091959027475\n",
      "-----------------------\n",
      "Test TNR:  0.9994090333474039\n",
      "Test TPR:  0.01776461880088823\n",
      "Test Accuracy:  0.8170756857083935\n"
     ]
    }
   ],
   "source": [
    "Accuracy_Train_M6 =(confusion_matrix_train[0,0]+confusion_matrix_train[1,1])/(confusion_matrix_train[0,0]+confusion_matrix_train[0,1]+confusion_matrix_train[1,0]+confusion_matrix_train[1,1])\n",
    "TNR_Train_M6 = confusion_matrix_train[0,0]/(confusion_matrix_train[0,0]+confusion_matrix_train[0,1])\n",
    "TPR_Train_M6 = confusion_matrix_train[1,1]/(confusion_matrix_train[1,0]+confusion_matrix_train[1,1])\n",
    "\n",
    "print(\"Train TNR: \",TNR_Train_M6)\n",
    "print(\"Train TPR: \",TPR_Train_M6)\n",
    "print(\"Train Accuracy: \",Accuracy_Train_M6)\n",
    "\n",
    "print(\"-----------------------\")\n",
    "\n",
    "Accuracy_Test_M6 = (confusion_matrix_test[0,0]+confusion_matrix_test[1,1])/(confusion_matrix_test[0,0]+confusion_matrix_test[0,1]+confusion_matrix_test[1,0]+confusion_matrix_test[1,1])\n",
    "TNR_Test_M6 = confusion_matrix_test[0,0]/(confusion_matrix_test[0,0] +confusion_matrix_test[0,1])\n",
    "TPR_Test_M6 = confusion_matrix_test[1,1]/(confusion_matrix_test[1,0] +confusion_matrix_test[1,1])\n",
    "\n",
    "print(\"Test TNR: \",TNR_Test_M6)\n",
    "print(\"Test TPR: \",TPR_Test_M6)\n",
    "print(\"Test Accuracy: \",Accuracy_Test_M6)"
   ]
  },
  {
   "cell_type": "code",
   "execution_count": null,
   "metadata": {},
   "outputs": [],
   "source": []
  }
 ],
 "metadata": {
  "kernelspec": {
   "display_name": "Python 3",
   "language": "python",
   "name": "python3"
  },
  "language_info": {
   "codemirror_mode": {
    "name": "ipython",
    "version": 3
   },
   "file_extension": ".py",
   "mimetype": "text/x-python",
   "name": "python",
   "nbconvert_exporter": "python",
   "pygments_lexer": "ipython3",
   "version": "3.7.1"
  },
  "toc": {
   "base_numbering": 1,
   "nav_menu": {},
   "number_sections": true,
   "sideBar": true,
   "skip_h1_title": false,
   "title_cell": "Table of Contents",
   "title_sidebar": "Contents",
   "toc_cell": false,
   "toc_position": {},
   "toc_section_display": true,
   "toc_window_display": false
  }
 },
 "nbformat": 4,
 "nbformat_minor": 2
}
